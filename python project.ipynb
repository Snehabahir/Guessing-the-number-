{
 "cells": [
  {
   "cell_type": "markdown",
   "id": "f9de6739",
   "metadata": {},
   "source": [
    "# Guess the number"
   ]
  },
  {
   "cell_type": "code",
   "execution_count": null,
   "id": "81ef27d2",
   "metadata": {},
   "outputs": [],
   "source": [
    "\n",
    "\n",
    "import random\n",
    "import math\n",
    "# Taking Inputs\n",
    "lower = int(input(\"Enter Lower bound:- \"))\n",
    " \n",
    "# Taking Inputs\n",
    "upper = int(input(\"Enter Upper bound:- \"))\n",
    " \n",
    "# generating random number between\n",
    "# the lower and upper\n",
    "x = random.randint(lower, upper)\n",
    "print(\"\\n\\tYou've only \",\n",
    "       round(math.log(upper - lower + 1, 2)),\n",
    "      \" chances to guess the integer!\\n\")\n",
    " \n",
    "# Initializing the number of guesses.\n",
    "count = 0\n",
    " \n",
    "# for calculation of minimum number of guesses depends upon range\n",
    "while count < math.log(upper - lower + 1, 2):\n",
    "    count += 1\n",
    " \n",
    "    # taking guessing number as input\n",
    "    guess = int(input(\"Guess a number:- \"))\n",
    " \n",
    "    # Condition testing\n",
    "    if x == guess:\n",
    "        print(\"Congratulations you did it in \",\n",
    "              count, \" try\")\n",
    "        # Once guessed, loop will break\n",
    "        break\n",
    "    elif x > guess:\n",
    "        print(\"You guessed too small!\")\n",
    "    elif x < guess:\n",
    "        print(\"You Guessed too high!\")\n",
    " \n",
    "# If Guessing is more than required guesses, show this output.\n",
    "if count >= math.log(upper - lower + 1, 2):\n",
    "    print(\"\\nThe number is %d\" % x)\n",
    "    print(\"\\tBetter Luck Next time!\")\n",
    "\n",
    "\n"
   ]
  },
  {
   "cell_type": "code",
   "execution_count": null,
   "id": "e451295d",
   "metadata": {},
   "outputs": [],
   "source": []
  }
 ],
 "metadata": {
  "kernelspec": {
   "display_name": "Python 3 (ipykernel)",
   "language": "python",
   "name": "python3"
  },
  "language_info": {
   "codemirror_mode": {
    "name": "ipython",
    "version": 3
   },
   "file_extension": ".py",
   "mimetype": "text/x-python",
   "name": "python",
   "nbconvert_exporter": "python",
   "pygments_lexer": "ipython3",
   "version": "3.11.5"
  }
 },
 "nbformat": 4,
 "nbformat_minor": 5
}
